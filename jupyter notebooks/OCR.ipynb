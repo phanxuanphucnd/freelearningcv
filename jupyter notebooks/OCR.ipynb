{
 "cells": [
  {
   "cell_type": "markdown",
   "id": "7d068573",
   "metadata": {},
   "source": [
    "# OCR (Optical Character Recognition)\n",
    "\n",
    "- Author: Phanxuan Phuc\n",
    "- Project: https://github.com/phanxuanphucnd/freelearningcv"
   ]
  },
  {
   "cell_type": "code",
   "execution_count": null,
   "id": "bfd594a6",
   "metadata": {},
   "outputs": [],
   "source": []
  }
 ],
 "metadata": {
  "kernelspec": {
   "display_name": "free",
   "language": "python",
   "name": "free"
  },
  "language_info": {
   "codemirror_mode": {
    "name": "ipython",
    "version": 3
   },
   "file_extension": ".py",
   "mimetype": "text/x-python",
   "name": "python",
   "nbconvert_exporter": "python",
   "pygments_lexer": "ipython3",
   "version": "3.7.1"
  }
 },
 "nbformat": 4,
 "nbformat_minor": 5
}
