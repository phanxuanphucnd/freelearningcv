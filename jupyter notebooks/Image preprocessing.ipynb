{
 "cells": [
  {
   "cell_type": "markdown",
   "metadata": {},
   "source": [
    "### Image Preprocessing - OpenCV\n",
    "\n",
    "- Author: Phanxuan Phuc\n",
    "- Project: https://github.com/phanxuanphucnd/freelearningcv"
   ]
  },
  {
   "cell_type": "markdown",
   "metadata": {},
   "source": [
    "### Vai trò của tiền xử lý ảnh\n",
    "\n",
    "Khi xây dựng, phát triển một thuật toán phân loại ảnh, chúng ta có thể gặp 1 số trường hợp không như kỳ vọng: Kết quả huấn luyện có độ chính xác cao trên cả `train dataset` và `dev dataset`, nhưng khi áp dụng vào thực tế nó lại cho độ chính xác thấp. Có nhiều nguyên nhân dẫn tới vấn đề này, một trong số đó có thể nghĩ tới:\n",
    "\n",
    "- Các bức ảnh được huấn luyện khác xa so với những bức ảnh người dùng upload trong thực tế về các khía cạnh như: độ phân giải, cường độ màu sắc, chất lượng ảnh, độ to nhỏ của vật thể, chiều, hướng, và tư thế của các vật thể bên trong ảnh;\n",
    "- Có thể các bức ảnh người dùng upload lên mặc dù cùng nhãn nhưng khác về tính chất so với các bức ảnh đã được huấn luyện. Ví dụ, trong một thuật toán phân loại `dog` và `cat`, `train dataset` chỉ bao gồm những con mèo trưởng thành nhưng thực tế người dùng lại upload lên rất nhiều hình ảnh của mèo con có thể dẫn đến thuật toán bị nhầm lẫn;\n",
    "- Đối với một số tác vụ phân loại ảnh khó, đòi hỏi chuyên gia gán nhãn, rất dễ mắc sai lầm như chuẩn đoán bệnh nhãn cầu, ... Một số ít các ảnh trong `train dataset` có thể bị gán nhãn sai -> ảnh hưởng tới khả năng dự đoán của thuật toán;\n",
    "- Bộ `train dataset` có kích thước quá nhỏ và không đại diện đủ cho toàn bộ các class được huấn luyện;\n",
    "- Phân phối của `train dataset` khác xa so với thực tế. Chẳng hạn `tran dataset` chứa ảnh chó mèo tỉ lệ 50:50 nhưng số lượng ảnh người dùng upload lên ảnh `dog` chiếm đa số theo tỉ lệ `90:10`.\n",
    "\n",
    "Và rất nhiều nguyên nhân khác dẫn tới thuật toán hoạt động không được như kì vọng. Khi đối mặt với các trường hợp trên chúng ta cần phải tìm ra nguyên nhân thực sự là gì và từ đó đưa ra những phương án thích hợp để khắc phục các lỗi mô hình. Các kỹ thuật để giải quyết các trường hợp lỗi như vậy đã được tổng hợp trong cuốn sách **[Khao khát học máy - Andrew Ng](https://github.com/phanxuanphucnd/book4ai/blob/main/Kh%C3%A1t%20Khao%20H%E1%BB%8Dc%20M%C3%A1y%20(Machine%20Learning%20Yearning).pdf)**. Một số hướng giải quyết tác giả nêu ra như: Thay đổi tập `train dataset` và `dev dataset`, thống kê lỗi và tìm cách giải quyết các lỗi chính mang lại cải thiện lớn, xác định `train dataset`/ `dev dataset` và phép đo đơn trị thích hợp ngay từ đầu cho bài toán, áo dụng các phương phpas và kiến trúc mô hình khác nhau, ...\n",
    "\n",
    "Trong trường hợp dữ liệu không đủ lớn, dữ liệu gán nhãn với chi phí cao (như chuẩn đoán bệnh qua hình ảnh, phải tìm được bệnh nhân gặp đúng bác sĩ đó và bác sĩ chuyên khoa để chuẩn đoán), việc thay đổi tập dữ liệu là khá tốn chi phí. Có một phương pháp mà có thể giúp gia tăng số lượng ảnh đầu vào đó là `tăng cường dữ liệu` (`data augmentation`) sử dụng dụng các phép biến đổi `tiền xử lý hình ảnh` đầu vào. Đây là một phương pháp hiệu quả nhằm thay đổi tập dữ liệu huấn luyện và từ đó giúp cải thiện hiệu quả dự đoán."
   ]
  },
  {
   "cell_type": "markdown",
   "metadata": {},
   "source": [
    "## Tiền xử lý ảnh\n",
    "\n",
    "### Các biến đổi hình học\n",
    "\n",
    "Các phép biến đổi hình ảnh từ một hình dạng này sang một hình dạng khác thông qua việc làm thay đổi `phương`, `chiều`, `góc`, `cạnh` mà không làm thay đổi nội dung của ảnh. Về mặt lý thuyết toán học, một phép biến đổi được định nghĩa như sau:\n",
    "\n",
    "<img src=\"../imgs/imagepreprocessing1.png\" width=\"100%\" height=\"100%\" align=\"center\"/>\n",
    "\n",
    "=> Để xác định một phép biến đổi hình học, ta cần xác định được ma trận chuyển dịch của nó là gì? Các dnagj biến đô\n",
    "\n",
    "#### Phóng đại ảnh (Scale image)\n",
    "\n",
    "Scale ảnh là việc chúng ta thay đổi kích thước dài, rộng của ảnh mà không làm thay đổi tính chất song song của các đoạn thẳng trên ảnh gốc so với các trục tọa độ X và Y. Chi tiêt bạn đọc [tại đây](https://phamdinhkhanh.github.io/2020/01/06/ImagePreprocessing.html#211-ph%C3%B3ng-%C4%91%E1%BA%A1i-%E1%BA%A3nh-scale-%E1%BA%A3nh)."
   ]
  },
  {
   "cell_type": "code",
   "execution_count": null,
   "metadata": {},
   "outputs": [],
   "source": []
  }
 ],
 "metadata": {
  "kernelspec": {
   "display_name": "free",
   "language": "python",
   "name": "free"
  },
  "language_info": {
   "codemirror_mode": {
    "name": "ipython",
    "version": 3
   },
   "file_extension": ".py",
   "mimetype": "text/x-python",
   "name": "python",
   "nbconvert_exporter": "python",
   "pygments_lexer": "ipython3",
   "version": "3.7.1"
  }
 },
 "nbformat": 4,
 "nbformat_minor": 4
}
